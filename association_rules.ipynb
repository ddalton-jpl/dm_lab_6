{
 "cells": [
  {
   "cell_type": "markdown",
   "metadata": {},
   "source": [
    "#### Step 1: Import the dataset and set the minSupport and minConfidence\n",
    "\n",
    "[REFERENCE](https://hands-on.cloud/implementation-of-fp-growth-algorithm-using-python/)"
   ]
  },
  {
   "cell_type": "code",
   "execution_count": 164,
   "metadata": {},
   "outputs": [
    {
     "name": "stdout",
     "output_type": "stream",
     "text": [
      "[['apt', 'poor'], ['car', 'apt', 'avg'], ['car', 'villa', 'rich'], ['car', 'villa', 'rich'], ['car', 'apt', 'avg']]\n"
     ]
    },
    {
     "data": {
      "text/html": [
       "<div>\n",
       "<style scoped>\n",
       "    .dataframe tbody tr th:only-of-type {\n",
       "        vertical-align: middle;\n",
       "    }\n",
       "\n",
       "    .dataframe tbody tr th {\n",
       "        vertical-align: top;\n",
       "    }\n",
       "\n",
       "    .dataframe thead th {\n",
       "        text-align: right;\n",
       "    }\n",
       "</style>\n",
       "<table border=\"1\" class=\"dataframe\">\n",
       "  <thead>\n",
       "    <tr style=\"text-align: right;\">\n",
       "      <th></th>\n",
       "      <th>apt</th>\n",
       "      <th>avg</th>\n",
       "      <th>car</th>\n",
       "      <th>poor</th>\n",
       "      <th>rich</th>\n",
       "      <th>villa</th>\n",
       "    </tr>\n",
       "  </thead>\n",
       "  <tbody>\n",
       "    <tr>\n",
       "      <th>0</th>\n",
       "      <td>True</td>\n",
       "      <td>False</td>\n",
       "      <td>False</td>\n",
       "      <td>True</td>\n",
       "      <td>False</td>\n",
       "      <td>False</td>\n",
       "    </tr>\n",
       "    <tr>\n",
       "      <th>1</th>\n",
       "      <td>True</td>\n",
       "      <td>True</td>\n",
       "      <td>True</td>\n",
       "      <td>False</td>\n",
       "      <td>False</td>\n",
       "      <td>False</td>\n",
       "    </tr>\n",
       "    <tr>\n",
       "      <th>2</th>\n",
       "      <td>False</td>\n",
       "      <td>False</td>\n",
       "      <td>True</td>\n",
       "      <td>False</td>\n",
       "      <td>True</td>\n",
       "      <td>True</td>\n",
       "    </tr>\n",
       "    <tr>\n",
       "      <th>3</th>\n",
       "      <td>False</td>\n",
       "      <td>False</td>\n",
       "      <td>True</td>\n",
       "      <td>False</td>\n",
       "      <td>True</td>\n",
       "      <td>True</td>\n",
       "    </tr>\n",
       "    <tr>\n",
       "      <th>4</th>\n",
       "      <td>True</td>\n",
       "      <td>True</td>\n",
       "      <td>True</td>\n",
       "      <td>False</td>\n",
       "      <td>False</td>\n",
       "      <td>False</td>\n",
       "    </tr>\n",
       "  </tbody>\n",
       "</table>\n",
       "</div>"
      ],
      "text/plain": [
       "     apt    avg    car   poor   rich  villa\n",
       "0   True  False  False   True  False  False\n",
       "1   True   True   True  False  False  False\n",
       "2  False  False   True  False   True   True\n",
       "3  False  False   True  False   True   True\n",
       "4   True   True   True  False  False  False"
      ]
     },
     "execution_count": 164,
     "metadata": {},
     "output_type": "execute_result"
    }
   ],
   "source": [
    "import pandas as pd\n",
    "import numpy as np\n",
    "from itertools import combinations\n",
    "from csv import reader\n",
    "from collections import defaultdict\n",
    "from mlxtend.preprocessing import TransactionEncoder\n",
    "\n",
    "min_support = 0.4\n",
    "min_confidence = 1\n",
    "\n",
    "# Step 0 Preprocessing\n",
    "df = pd.read_csv('data.csv')\n",
    "transactions = []\n",
    "for i in range(len(df)):\n",
    "    transaction = []\n",
    "    for col in df.columns:\n",
    "        if df.loc[i, col] == True:\n",
    "            transaction.append(col)\n",
    "    transactions.append(transaction)\n",
    "\n",
    "print(transactions)\n",
    "\n",
    "# Convert the transactions into a one-hot encoded DataFrame\n",
    "te = TransactionEncoder()\n",
    "te_ary = te.fit(transactions).transform(transactions)\n",
    "df = pd.DataFrame(te_ary, columns=te.columns_)\n",
    "df.head()"
   ]
  },
  {
   "cell_type": "code",
   "execution_count": 165,
   "metadata": {},
   "outputs": [
    {
     "name": "stdout",
     "output_type": "stream",
     "text": [
      "{'apt': 3, 'poor': 1, 'car': 4, 'avg': 2, 'villa': 2, 'rich': 2}\n"
     ]
    }
   ],
   "source": [
    "# Step 1: Calculate the support for each item\n",
    "support_counts = {}\n",
    "for transaction in transactions:\n",
    "    for item in transaction:\n",
    "        if item in support_counts:\n",
    "            support_counts[item] += 1\n",
    "        else:\n",
    "            support_counts[item] = 1\n",
    "\n",
    "print(support_counts)"
   ]
  },
  {
   "cell_type": "code",
   "execution_count": 166,
   "metadata": {},
   "outputs": [
    {
     "name": "stdout",
     "output_type": "stream",
     "text": [
      "['car', 'apt', 'avg', 'villa', 'rich', 'poor']\n"
     ]
    }
   ],
   "source": [
    "# Step 2: Calculate F-list\n",
    "# Remove items that do not meet the minimum support threshold\n",
    "f_list = []\n",
    "for item, support in support_counts.items():\n",
    "    if support >= min_support:\n",
    "        f_list.append(item)\n",
    "\n",
    "# Sort by support\n",
    "f_list = sorted(f_list, key=lambda x: support_counts[x], reverse=True)\n",
    "\n",
    "print(f_list)"
   ]
  },
  {
   "cell_type": "code",
   "execution_count": 167,
   "metadata": {},
   "outputs": [
    {
     "name": "stdout",
     "output_type": "stream",
     "text": [
      "{'car': [['car', 'apt', 'avg'], ['car', 'villa', 'rich'], ['car', 'villa', 'rich'], ['car', 'apt', 'avg']], 'apt': [['apt', 'poor'], ['car', 'apt', 'avg'], ['car', 'apt', 'avg']], 'avg': [['car', 'apt', 'avg'], ['car', 'apt', 'avg']], 'villa': [['car', 'villa', 'rich'], ['car', 'villa', 'rich']], 'rich': [['car', 'villa', 'rich'], ['car', 'villa', 'rich']], 'poor': [['apt', 'poor']]}\n"
     ]
    }
   ],
   "source": [
    "# Step 3: Create Conditional Base\n",
    "conditional_base = {}\n",
    "for item in f_list:\n",
    "    conditional_base[item] = []\n",
    "    for transaction in transactions:\n",
    "        if item in transaction:\n",
    "            conditional_base[item].append(transaction)\n",
    "\n",
    "print(conditional_base)"
   ]
  },
  {
   "cell_type": "code",
   "execution_count": 168,
   "metadata": {},
   "outputs": [],
   "source": [
    "# Step 4: Create Fp-Tree\n",
    "class FPNode:\n",
    "    def __init__(self, name, count, parent):\n",
    "        self.name = name\n",
    "        self.count = count\n",
    "        self.parent = parent\n",
    "        self.children = {}\n",
    "        self.next = None\n",
    "\n",
    "def build_FPTree(transactions, f_list, conditional_base, min_support):\n",
    "    root = FPNode('root', 0, None)\n",
    "    for transaction in transactions:\n",
    "        transaction = [item for item in transaction if item in f_list]\n",
    "        transaction.sort(key=lambda x: f_list.index(x))\n",
    "        curr_node = root\n",
    "        for item in transaction:\n",
    "            if item in curr_node.children:\n",
    "                curr_node.children[item].count += 1\n",
    "            else:\n",
    "                new_node = FPNode(item, 1, curr_node)\n",
    "                curr_node.children[item] = new_node\n",
    "                if item in conditional_base:\n",
    "                    conditional_base[item].append(new_node)\n",
    "                else:\n",
    "                    conditional_base[item] = [new_node]\n",
    "            curr_node = curr_node.children[item]\n",
    "    return root, conditional_base           "
   ]
  },
  {
   "cell_type": "code",
   "execution_count": 169,
   "metadata": {},
   "outputs": [
    {
     "name": "stdout",
     "output_type": "stream",
     "text": [
      "{'car': [['car', 'apt', 'avg'], ['car', 'villa', 'rich'], ['car', 'villa', 'rich'], ['car', 'apt', 'avg']], 'apt': [['apt', 'poor'], ['car', 'apt', 'avg'], ['car', 'apt', 'avg']], 'avg': [['car', 'apt', 'avg'], ['car', 'apt', 'avg']], 'villa': [['car', 'villa', 'rich'], ['car', 'villa', 'rich']], 'rich': [['car', 'villa', 'rich'], ['car', 'villa', 'rich']], 'poor': [['apt', 'poor']]}\n"
     ]
    }
   ],
   "source": [
    "# Step 5: Gerenate Frequent Patterns\n",
    "def generate_frequent_patterns(conditional_base, min_support):\n",
    "    frequent_patterns = {}\n",
    "    for item in conditional_base:\n",
    "        if len(conditional_base[item]) >= min_support:\n",
    "            frequent_patterns[item] = conditional_base[item]\n",
    "    return frequent_patterns\n",
    "\n",
    "print(generate_frequent_patterns(conditional_base, min_support))"
   ]
  },
  {
   "cell_type": "code",
   "execution_count": 170,
   "metadata": {},
   "outputs": [
    {
     "name": "stdout",
     "output_type": "stream",
     "text": [
      "[]\n"
     ]
    }
   ],
   "source": [
    "# Step 6: Generate Association Rules\n",
    "def generate_association_rules(frequent_patterns, min_confidence):\n",
    "    association_rules = []\n",
    "    for item in frequent_patterns:\n",
    "        for i in range(1, len(frequent_patterns[item])):\n",
    "            for subset in combinations(frequent_patterns[item], i):\n",
    "                confidence = len(subset) / len(frequent_patterns[item])\n",
    "                if confidence >= min_confidence:\n",
    "                    association_rules.append((subset, item))\n",
    "    return association_rules\n",
    "\n",
    "print(generate_association_rules(generate_frequent_patterns(conditional_base, min_support), min_confidence))"
   ]
  }
 ],
 "metadata": {
  "kernelspec": {
   "display_name": "Python 3.10.10 64-bit",
   "language": "python",
   "name": "python3"
  },
  "language_info": {
   "codemirror_mode": {
    "name": "ipython",
    "version": 3
   },
   "file_extension": ".py",
   "mimetype": "text/x-python",
   "name": "python",
   "nbconvert_exporter": "python",
   "pygments_lexer": "ipython3",
   "version": "3.10.10"
  },
  "orig_nbformat": 4,
  "vscode": {
   "interpreter": {
    "hash": "bd385fe162c5ca0c84973b7dd5c518456272446b2b64e67c2a69f949ca7a1754"
   }
  }
 },
 "nbformat": 4,
 "nbformat_minor": 2
}
