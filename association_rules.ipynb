{
 "cells": [
  {
   "cell_type": "markdown",
   "metadata": {},
   "source": [
    "#### Step 1: Import the dataset and set the minSupport and minConfidence\n",
    "\n",
    "[REFERENCE](https://hands-on.cloud/implementation-of-fp-growth-algorithm-using-python/)"
   ]
  },
  {
   "cell_type": "code",
   "execution_count": 244,
   "metadata": {},
   "outputs": [],
   "source": [
    "import pandas as pd\n",
    "import numpy as np\n",
    "from itertools import combinations\n",
    "from csv import reader\n",
    "from collections import defaultdict\n",
    "from mlxtend.preprocessing import TransactionEncoder\n",
    "\n",
    "min_support = 0.4\n",
    "min_confidence = 1\n",
    "\n",
    "# Step 0 Preprocessing\n",
    "df = pd.read_csv('data.csv')\n",
    "transactions = []\n",
    "for i in range(len(df)):\n",
    "    transaction = []\n",
    "    for col in df.columns:\n",
    "        if df.loc[i, col] == True:\n",
    "            transaction.append(col)\n",
    "    transactions.append(transaction)\n",
    "\n",
    "# Convert the transactions into a one-hot encoded DataFrame\n",
    "te = TransactionEncoder()\n",
    "te_ary = te.fit(transactions).transform(transactions)\n",
    "df = pd.DataFrame(te_ary, columns=te.columns_)\n"
   ]
  },
  {
   "cell_type": "code",
   "execution_count": 245,
   "metadata": {},
   "outputs": [
    {
     "name": "stdout",
     "output_type": "stream",
     "text": [
      "{'apt': 3, 'poor': 1, 'car': 4, 'avg': 2, 'villa': 2, 'rich': 2}\n"
     ]
    }
   ],
   "source": [
    "# Step 1: Calculate the support for each item\n",
    "support_counts = {}\n",
    "for transaction in transactions:\n",
    "    for item in transaction:\n",
    "        if item in support_counts:\n",
    "            support_counts[item] += 1\n",
    "        else:\n",
    "            support_counts[item] = 1\n",
    "\n",
    "print(support_counts)"
   ]
  },
  {
   "cell_type": "code",
   "execution_count": 246,
   "metadata": {},
   "outputs": [
    {
     "name": "stdout",
     "output_type": "stream",
     "text": [
      "['car', 'apt', 'avg', 'villa', 'rich', 'poor']\n"
     ]
    }
   ],
   "source": [
    "# Step 2: Calculate F-list\n",
    "# Remove items that do not meet the minimum support threshold\n",
    "f_list = []\n",
    "for item, support in support_counts.items():\n",
    "    if support >= min_support:\n",
    "        f_list.append(item)\n",
    "\n",
    "# Sort by support\n",
    "f_list = sorted(f_list, key=lambda x: support_counts[x], reverse=True)\n",
    "\n",
    "print(f_list)"
   ]
  },
  {
   "cell_type": "code",
   "execution_count": 260,
   "metadata": {},
   "outputs": [],
   "source": [
    "# Step 4: Create Fp-Tree\n",
    "class FPNode:\n",
    "    def __init__(self, name, count, parent):\n",
    "        self.name = name\n",
    "        self.count = count\n",
    "        self.parent = parent\n",
    "        self.children = {}\n",
    "        self.next = None\n",
    "\n",
    "def build_FPTree(transactions, f_list, min_support):\n",
    "    root = FPNode('root', 0, None)\n",
    "    headerTable = {}\n",
    "    \n",
    "    for transaction in transactions:\n",
    "        transaction = [item for item in transaction if item in f_list]\n",
    "        transaction.sort(key=lambda x: f_list.index(x))\n",
    "        curr_node = root\n",
    "        for item in transaction:\n",
    "            if item in curr_node.children:\n",
    "                curr_node.children[item].count += 1\n",
    "            else:\n",
    "                new_node = FPNode(item, 1, curr_node)\n",
    "                curr_node.children[item] = new_node\n",
    "                if item in headerTable:\n",
    "                    headerTable[item].append(new_node)\n",
    "                else:\n",
    "                    headerTable[item] = [new_node]\n",
    "            curr_node = curr_node.children[item]\n",
    "    \n",
    "    # Convert headerTable items to lists\n",
    "    for item in headerTable:\n",
    "        if not isinstance(headerTable[item], list):\n",
    "            headerTable[item] = [headerTable[item]]\n",
    "    \n",
    "    return root, headerTable\n"
   ]
  },
  {
   "cell_type": "code",
   "execution_count": 261,
   "metadata": {},
   "outputs": [],
   "source": [
    "def get_conditional_pattern_base(item, headerTable):\n",
    "    conditional_pattern_base = []\n",
    "    node = headerTable[item][0].next\n",
    "    while node:\n",
    "        # Get the path from the node to the root\n",
    "        path = []\n",
    "        curr_node = node\n",
    "        while curr_node.parent.name != 'root':\n",
    "            path.append(curr_node.parent.name)\n",
    "            curr_node = curr_node.parent\n",
    "\n",
    "        # Add the path to the conditional pattern base with the count of the node\n",
    "        conditional_pattern_base.append((path[::-1], node.count))\n",
    "        node = node.next\n",
    "\n",
    "    return conditional_pattern_base\n"
   ]
  },
  {
   "cell_type": "code",
   "execution_count": 262,
   "metadata": {},
   "outputs": [],
   "source": [
    "# Step 5: Mine Fp-Tree\n",
    "def mine_FPTree(root, headerTable, min_support, frequent_itemsets=[], prefix=[]):\n",
    "    # Sort the items in the header table by support\n",
    "    items = sorted(headerTable.keys(), key=lambda x: f_list.index(x))\n",
    "    for item in items:\n",
    "        # Create new prefix\n",
    "        new_prefix = prefix + [item]\n",
    "        # Add the new prefix to the list of frequent itemsets\n",
    "        frequent_itemsets.append(new_prefix)\n",
    "        # Get the conditional pattern base for the item\n",
    "        conditional_pattern_base = get_conditional_pattern_base(item, headerTable)\n",
    "        # Build the conditional FPTree\n",
    "        conditional_FPTree, conditional_headerTable = build_FPTree(conditional_pattern_base, f_list, min_support)\n",
    "        # Mine the conditional FPTree\n",
    "        if conditional_headerTable:\n",
    "            mine_FPTree(conditional_FPTree, conditional_headerTable, min_support, frequent_itemsets, new_prefix)\n",
    "\n",
    "    return frequent_itemsets\n"
   ]
  },
  {
   "cell_type": "code",
   "execution_count": 263,
   "metadata": {},
   "outputs": [
    {
     "name": "stdout",
     "output_type": "stream",
     "text": [
      "[['car'], ['apt'], ['avg'], ['villa'], ['rich'], ['poor']]\n"
     ]
    }
   ],
   "source": [
    "root, headerTable = build_FPTree(transactions, f_list, min_support)\n",
    "frequent_itemsets = mine_FPTree(root, headerTable, min_support)\n",
    "\n",
    "print(frequent_itemsets)"
   ]
  },
  {
   "cell_type": "code",
   "execution_count": 255,
   "metadata": {},
   "outputs": [
    {
     "name": "stdout",
     "output_type": "stream",
     "text": [
      "[]\n"
     ]
    }
   ],
   "source": [
    "# Step 6: Generate Association Rules\n",
    "def generate_association_rules(frequent_itemsets, min_confidence):\n",
    "    rules = []\n",
    "    for itemset in frequent_itemsets:\n",
    "        # Get all subsets of the itemset\n",
    "        subsets = []\n",
    "        for i in range(1, len(itemset)):\n",
    "            subsets += combinations(itemset, i)\n",
    "\n",
    "        # Calculate the confidence of each subset\n",
    "        for subset in subsets:\n",
    "            confidence = support_counts[tuple(itemset)] / support_counts[tuple(subset)]\n",
    "            if confidence >= min_confidence:\n",
    "                rules.append((subset, tuple(set(itemset) - set(subset)), confidence))\n",
    "    return rules\n",
    "\n",
    "rules = generate_association_rules(frequent_itemsets, min_confidence)\n",
    "\n",
    "print(rules)"
   ]
  }
 ],
 "metadata": {
  "kernelspec": {
   "display_name": "Python 3.10.10 64-bit",
   "language": "python",
   "name": "python3"
  },
  "language_info": {
   "codemirror_mode": {
    "name": "ipython",
    "version": 3
   },
   "file_extension": ".py",
   "mimetype": "text/x-python",
   "name": "python",
   "nbconvert_exporter": "python",
   "pygments_lexer": "ipython3",
   "version": "3.10.10"
  },
  "orig_nbformat": 4,
  "vscode": {
   "interpreter": {
    "hash": "bd385fe162c5ca0c84973b7dd5c518456272446b2b64e67c2a69f949ca7a1754"
   }
  }
 },
 "nbformat": 4,
 "nbformat_minor": 2
}
