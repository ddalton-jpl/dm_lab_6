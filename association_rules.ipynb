{
 "cells": [
  {
   "cell_type": "markdown",
   "metadata": {},
   "source": [
    "#### Step 1: Import the dataset and set the minSupport and minConfidence"
   ]
  },
  {
   "cell_type": "code",
   "execution_count": 140,
   "metadata": {},
   "outputs": [
    {
     "name": "stdout",
     "output_type": "stream",
     "text": [
      "[['apt', 'poor'], ['car', 'apt', 'avg'], ['car', 'villa', 'rich'], ['car', 'villa', 'rich'], ['car', 'apt', 'avg']]\n"
     ]
    }
   ],
   "source": [
    "import pandas as pd\n",
    "import numpy as np\n",
    "from itertools import combinations\n",
    "from csv import reader\n",
    "from collections import defaultdict\n",
    "from mlxtend.preprocessing import TransactionEncoder\n",
    "\n",
    "min_support = 2\n",
    "min_confidence = 1\n",
    "\n",
    "# Step 0 Preprocessing\n",
    "df = pd.read_csv('data.csv')\n",
    "transactions = []\n",
    "for i in range(len(df)):\n",
    "    transaction = []\n",
    "    for col in df.columns:\n",
    "        if df.loc[i, col] == True:\n",
    "            transaction.append(col)\n",
    "    transactions.append(transaction)\n",
    "\n",
    "print(transactions)\n",
    "\n",
    "# Convert the transactions into a one-hot encoded DataFrame\n",
    "te = TransactionEncoder()\n",
    "te_ary = te.fit(transactions).transform(transactions)\n",
    "df = pd.DataFrame(te_ary, columns=te.columns_)"
   ]
  },
  {
   "cell_type": "code",
   "execution_count": 141,
   "metadata": {},
   "outputs": [
    {
     "name": "stdout",
     "output_type": "stream",
     "text": [
      "{'apt': 3, 'poor': 1, 'car': 4, 'avg': 2, 'villa': 2, 'rich': 2}\n"
     ]
    }
   ],
   "source": [
    "# Step 1: Calculate the support for each item\n",
    "support_counts = {}\n",
    "for transaction in transactions:\n",
    "    for item in transaction:\n",
    "        if item in support_counts:\n",
    "            support_counts[item] += 1\n",
    "        else:\n",
    "            support_counts[item] = 1\n",
    "\n",
    "print(support_counts)"
   ]
  },
  {
   "cell_type": "code",
   "execution_count": 142,
   "metadata": {},
   "outputs": [
    {
     "name": "stdout",
     "output_type": "stream",
     "text": [
      "['car', 'apt', 'avg', 'villa', 'rich', 'poor']\n"
     ]
    }
   ],
   "source": [
    "# Step 2: Calculate F-list\n",
    "f_list = sorted(support_counts.items(), key=lambda x: x[1], reverse=True)\n",
    "f_list = [item[0] for item in f_list]\n",
    "\n",
    "print(f_list)"
   ]
  },
  {
   "cell_type": "code",
   "execution_count": 143,
   "metadata": {},
   "outputs": [
    {
     "name": "stdout",
     "output_type": "stream",
     "text": [
      "{'car': [['car', 'apt', 'avg'], ['car', 'villa', 'rich'], ['car', 'villa', 'rich'], ['car', 'apt', 'avg']], 'apt': [['apt', 'poor'], ['car', 'apt', 'avg'], ['car', 'apt', 'avg']], 'avg': [['car', 'apt', 'avg'], ['car', 'apt', 'avg']], 'villa': [['car', 'villa', 'rich'], ['car', 'villa', 'rich']], 'rich': [['car', 'villa', 'rich'], ['car', 'villa', 'rich']], 'poor': [['apt', 'poor']]}\n"
     ]
    }
   ],
   "source": [
    "# Step 3: Create Conditional Base\n",
    "conditional_base = {}\n",
    "for item in f_list:\n",
    "    conditional_base[item] = []\n",
    "    for transaction in transactions:\n",
    "        if item in transaction:\n",
    "            conditional_base[item].append(transaction)\n",
    "\n",
    "print(conditional_base)"
   ]
  },
  {
   "cell_type": "code",
   "execution_count": 146,
   "metadata": {},
   "outputs": [],
   "source": [
    "# Step 4: Create Fp-Tree\n",
    "class FPNode:\n",
    "    def __init__(self, name, count, parent):\n",
    "        self.name = name\n",
    "        self.count = count\n",
    "        self.parent = parent\n",
    "        self.children = {}\n",
    "        self.next = None\n",
    "\n",
    "def build_FPTree(transactions, f_list, conditional_base, min_support):\n",
    "    root = FPNode('root', 0, None)\n",
    "    for transaction in transactions:\n",
    "        transaction = [item for item in transaction if item in f_list]\n",
    "        transaction.sort(key=lambda x: f_list.index(x))\n",
    "        curr_node = root\n",
    "        for item in transaction:\n",
    "            if item in curr_node.children:\n",
    "                curr_node.children[item].count += 1\n",
    "            else:\n",
    "                new_node = FPNode(item, 1, curr_node)\n",
    "                curr_node.children[item] = new_node\n",
    "                if item in conditional_base:\n",
    "                    conditional_base[item].append(new_node)\n",
    "                else:\n",
    "                    conditional_base[item] = [new_node]\n",
    "            curr_node = curr_node.children[item]\n",
    "    return root, conditional_base           "
   ]
  },
  {
   "cell_type": "code",
   "execution_count": 149,
   "metadata": {},
   "outputs": [
    {
     "name": "stdout",
     "output_type": "stream",
     "text": [
      "{'car': [['car', 'apt', 'avg'], ['car', 'villa', 'rich'], ['car', 'villa', 'rich'], ['car', 'apt', 'avg']], 'apt': [['apt', 'poor'], ['car', 'apt', 'avg'], ['car', 'apt', 'avg']], 'avg': [['car', 'apt', 'avg'], ['car', 'apt', 'avg']], 'villa': [['car', 'villa', 'rich'], ['car', 'villa', 'rich']], 'rich': [['car', 'villa', 'rich'], ['car', 'villa', 'rich']]}\n"
     ]
    }
   ],
   "source": [
    "# Step 5: Gerenate Frequent Patterns\n",
    "def generate_frequent_patterns(conditional_base, min_support):\n",
    "    frequent_patterns = {}\n",
    "    for item in conditional_base:\n",
    "        if len(conditional_base[item]) >= min_support:\n",
    "            frequent_patterns[item] = conditional_base[item]\n",
    "    return frequent_patterns\n",
    "\n",
    "print(generate_frequent_patterns(conditional_base, min_support))"
   ]
  },
  {
   "cell_type": "code",
   "execution_count": 152,
   "metadata": {},
   "outputs": [
    {
     "ename": "AttributeError",
     "evalue": "'list' object has no attribute 'parent'",
     "output_type": "error",
     "traceback": [
      "\u001b[0;31m---------------------------------------------------------------------------\u001b[0m",
      "\u001b[0;31mAttributeError\u001b[0m                            Traceback (most recent call last)",
      "Cell \u001b[0;32mIn [152], line 13\u001b[0m\n\u001b[1;32m     10\u001b[0m             curr_node \u001b[38;5;241m=\u001b[39m curr_node\u001b[38;5;241m.\u001b[39mparent\n\u001b[1;32m     11\u001b[0m     \u001b[38;5;28;01mreturn\u001b[39;00m association_rules\n\u001b[0;32m---> 13\u001b[0m \u001b[38;5;28mprint\u001b[39m(\u001b[43mgenerate_association_rules\u001b[49m\u001b[43m(\u001b[49m\u001b[43mgenerate_frequent_patterns\u001b[49m\u001b[43m(\u001b[49m\u001b[43mconditional_base\u001b[49m\u001b[43m,\u001b[49m\u001b[43m \u001b[49m\u001b[43mmin_support\u001b[49m\u001b[43m)\u001b[49m\u001b[43m,\u001b[49m\u001b[43m \u001b[49m\u001b[43mmin_confidence\u001b[49m\u001b[43m)\u001b[49m)\n",
      "Cell \u001b[0;32mIn [152], line 6\u001b[0m, in \u001b[0;36mgenerate_association_rules\u001b[0;34m(frequent_patterns, min_confidence)\u001b[0m\n\u001b[1;32m      4\u001b[0m \u001b[38;5;28;01mfor\u001b[39;00m item \u001b[38;5;129;01min\u001b[39;00m frequent_patterns:\n\u001b[1;32m      5\u001b[0m     curr_node \u001b[38;5;241m=\u001b[39m frequent_patterns[item][\u001b[38;5;241m0\u001b[39m]\n\u001b[0;32m----> 6\u001b[0m     \u001b[38;5;28;01mwhile\u001b[39;00m \u001b[43mcurr_node\u001b[49m\u001b[38;5;241;43m.\u001b[39;49m\u001b[43mparent\u001b[49m\u001b[38;5;241m.\u001b[39mname \u001b[38;5;241m!=\u001b[39m \u001b[38;5;124m'\u001b[39m\u001b[38;5;124mroot\u001b[39m\u001b[38;5;124m'\u001b[39m:\n\u001b[1;32m      7\u001b[0m         confidence \u001b[38;5;241m=\u001b[39m curr_node\u001b[38;5;241m.\u001b[39mcount \u001b[38;5;241m/\u001b[39m curr_node\u001b[38;5;241m.\u001b[39mparent\u001b[38;5;241m.\u001b[39mcount\n\u001b[1;32m      8\u001b[0m         \u001b[38;5;28;01mif\u001b[39;00m confidence \u001b[38;5;241m>\u001b[39m\u001b[38;5;241m=\u001b[39m min_confidence:\n",
      "\u001b[0;31mAttributeError\u001b[0m: 'list' object has no attribute 'parent'"
     ]
    }
   ],
   "source": [
    "# Step 6: Generate Association Rules\n",
    "def generate_association_rules(frequent_patterns, min_confidence):\n",
    "    association_rules = []\n",
    "    for item in frequent_patterns:\n",
    "        curr_node = frequent_patterns[item][0]\n",
    "        while curr_node.parent.name != 'root':\n",
    "            confidence = curr_node.count / curr_node.parent.count\n",
    "            if confidence >= min_confidence:\n",
    "                association_rules.append((curr_node.parent.name, curr_node.name, confidence))\n",
    "            curr_node = curr_node.parent\n",
    "    return association_rules\n",
    "\n",
    "print(generate_association_rules(generate_frequent_patterns(conditional_base, min_support), min_confidence))"
   ]
  }
 ],
 "metadata": {
  "kernelspec": {
   "display_name": "Python 3.10.10 64-bit",
   "language": "python",
   "name": "python3"
  },
  "language_info": {
   "codemirror_mode": {
    "name": "ipython",
    "version": 3
   },
   "file_extension": ".py",
   "mimetype": "text/x-python",
   "name": "python",
   "nbconvert_exporter": "python",
   "pygments_lexer": "ipython3",
   "version": "3.10.10"
  },
  "orig_nbformat": 4,
  "vscode": {
   "interpreter": {
    "hash": "bd385fe162c5ca0c84973b7dd5c518456272446b2b64e67c2a69f949ca7a1754"
   }
  }
 },
 "nbformat": 4,
 "nbformat_minor": 2
}
